{
 "cells": [
  {
   "cell_type": "markdown",
   "metadata": {},
   "source": [
    "## active_editors"
   ]
  },
  {
   "cell_type": "markdown",
   "metadata": {},
   "source": [
    "update cchen.repo_active_editors table for Superset dashboard monthly"
   ]
  },
  {
   "cell_type": "code",
   "execution_count": 12,
   "metadata": {},
   "outputs": [],
   "source": [
    "import time\n",
    "import datetime\n",
    "\n",
    "import pandas as pd\n",
    "import requests\n",
    "from wmfdata import hive\n",
    "import os"
   ]
  },
  {
   "cell_type": "code",
   "execution_count": 13,
   "metadata": {},
   "outputs": [],
   "source": [
    "last_month = datetime.date.today().replace(day=1) - datetime.timedelta(days=1)\n",
    "\n",
    "METRICS_MONTH_TEXT = last_month.strftime(\"%Y-%m\")\n",
    "metrics_month = pd.Period(METRICS_MONTH_TEXT)"
   ]
  },
  {
   "cell_type": "code",
   "execution_count": 14,
   "metadata": {},
   "outputs": [
    {
     "data": {
      "text/plain": [
       "Period('2021-07', 'M')"
      ]
     },
     "execution_count": 14,
     "metadata": {},
     "output_type": "execute_result"
    }
   ],
   "source": [
    "metrics_month"
   ]
  },
  {
   "cell_type": "code",
   "execution_count": null,
   "metadata": {},
   "outputs": [],
   "source": [
    "## add active editors \n",
    "hive.run(\n",
    "\"\"\"\n",
    "insert into cchen.repo_active_editors \n",
    "select\n",
    "    month,\n",
    "    'All' as project, \n",
    "    'All' AS project_family, \n",
    "    'All' AS market,\n",
    "    count(*) as active_editors,\n",
    "    sum(cast(registration_month = month as int)) as new_active_editors,\n",
    "    count(*) - sum(cast(registration_month = month as int)) as returning_active_editors\n",
    "from (\n",
    "    select\n",
    "        cast(month as date) as month,\n",
    "        user_name,\n",
    "        sum(content_edits) as content_edits,\n",
    "        max(bot_by_group) as bot_by_group,\n",
    "        cast(trunc(min(user_registration), \"MONTH\") as date) as registration_month\n",
    "    from neilpquinn.editor_month\n",
    "    where\n",
    "        month = CONCAT('{month}','-01') and\n",
    "        user_id != 0\n",
    "    group by month, user_name\n",
    ") global_edits\n",
    "where\n",
    "    content_edits >= 5 and\n",
    "    not bot_by_group and\n",
    "    user_name not regexp \"bot\\\\b\"\n",
    "group by month\"\"\".format(\n",
    "       month = METRICS_MONTH_TEXT\n",
    "    ))\n",
    "                              \n",
    "\n",
    "\n"
   ]
  },
  {
   "cell_type": "code",
   "execution_count": null,
   "metadata": {},
   "outputs": [],
   "source": [
    "## add diversity \n",
    "## Established\n",
    "\n",
    "hive.run(\n",
    "\"\"\"\n",
    "with gs_editors as (\n",
    "    select \n",
    "        sum(edit_count) as edit_count,\n",
    "        sum(namespace_zero_edit_count) as namespace_zero_edit_count,\n",
    "        max(size(user_is_bot_by) > 0) as bot\n",
    "    from wmf.editors_daily gd\n",
    "    left join canonical_data.countries cdc\n",
    "    on gd.country_code = cdc.iso_code\n",
    "    where\n",
    "        month = '{month}' and\n",
    "        economic_region = \"Global North\" and\n",
    "        not user_is_anonymous and \n",
    "        gd.action_type = 0\n",
    "    group by user_fingerprint_or_id\n",
    ")\n",
    "\n",
    "insert into cchen.repo_active_editors \n",
    "select\n",
    "    CONCAT('{month}','-01 00:00:00.0') AS month,\n",
    "    \"All\" as project,\n",
    "    \"All\" as project_family,\n",
    "    \"Global North\" as market,\n",
    "    sum(cast(namespace_zero_edit_count >= 5 and not bot as int)) as active_editors,\n",
    "    0 as new_active_editors,\n",
    "    0 as returning_active_editors\n",
    "from gs_editors\"\"\".format(\n",
    "       month = METRICS_MONTH_TEXT\n",
    "    ))"
   ]
  },
  {
   "cell_type": "code",
   "execution_count": null,
   "metadata": {},
   "outputs": [],
   "source": [
    "## add diversity \n",
    "## Emerging\n",
    "\n",
    "hive.run(\n",
    "\"\"\"\n",
    "with gs_editors as (\n",
    "    select \n",
    "        sum(edit_count) as edit_count,\n",
    "        sum(namespace_zero_edit_count) as namespace_zero_edit_count,\n",
    "        max(size(user_is_bot_by) > 0) as bot\n",
    "    from wmf.editors_daily gd\n",
    "    left join canonical_data.countries cdc\n",
    "    on gd.country_code = cdc.iso_code\n",
    "    where\n",
    "        month = '{month}' and\n",
    "        economic_region = \"Global South\" and\n",
    "        not user_is_anonymous and \n",
    "        gd.action_type = 0\n",
    "    group by user_fingerprint_or_id\n",
    ")\n",
    "\n",
    "insert into cchen.repo_active_editors \n",
    "select\n",
    "    CONCAT('{month}','-01 00:00:00.0') AS month,\n",
    "    \"All\" as project,\n",
    "    \"All\" as project_family,\n",
    "    \"Global South\" as market,\n",
    "    sum(cast(namespace_zero_edit_count >= 5 and not bot as int)) as active_editors,\n",
    "    0 as new_active_editors,\n",
    "    0 as returning_active_editors\n",
    "from gs_editors\"\"\".format(\n",
    "       month = METRICS_MONTH_TEXT\n",
    "    ))"
   ]
  },
  {
   "cell_type": "code",
   "execution_count": null,
   "metadata": {},
   "outputs": [],
   "source": [
    "## add active editors by project family\n",
    "\n",
    "hive.run(\"\"\"\n",
    "insert into cchen.repo_active_editors \n",
    "select\n",
    "    CONCAT('{month}','-01 00:00:00.0') AS month,\n",
    "    'All' as project, \n",
    "    database_group AS project_family,\n",
    "    'All' AS market,\n",
    "    count(*) as active_editors,\n",
    "    sum(cast(registration_month = month as int)) as new_active_editors,\n",
    "    count(*) - sum(cast(registration_month = month as int)) as returning_active_editors\n",
    "from (\n",
    "    select\n",
    "        database_group,\n",
    "        cast(month as date) as month,\n",
    "        user_name,\n",
    "        sum(content_edits) as content_edits,\n",
    "        max(bot_by_group) as bot_by_group,\n",
    "        cast(trunc(min(user_registration), \"MONTH\") as date) as registration_month\n",
    "    from neilpquinn.editor_month\n",
    "    inner join canonical_data.wikis\n",
    "    on wiki = database_code\n",
    "    where\n",
    "        month = CONCAT('{month}','-01') and\n",
    "        user_id != 0\n",
    "        and\n",
    "        database_group in (\n",
    "        \"commons\", \"incubator\", \"mediawiki\", \"meta\",  \n",
    "        \"species\",\"wikibooks\", \"wikidata\", \"wikinews\", \"wikipedia\", \"wikiquote\",\n",
    "        \"wikisource\", \"wikiversity\", \"wikivoyage\", \"wiktionary\"\n",
    "    )\n",
    "    group by database_group, month, user_name\n",
    ") global_edits\n",
    "where\n",
    "    content_edits >= 5 and\n",
    "    not bot_by_group and\n",
    "    user_name not regexp \"bot\\\\b\"\n",
    "group by month, database_group\"\"\".format(\n",
    "       month = METRICS_MONTH_TEXT\n",
    "    ))"
   ]
  },
  {
   "cell_type": "code",
   "execution_count": null,
   "metadata": {},
   "outputs": [],
   "source": [
    "## add active editors by project\n",
    "\n",
    "hive.run(\"\"\"\n",
    "insert into cchen.repo_active_editors \n",
    "select\n",
    "    CONCAT('{month}','-01 00:00:00.0') AS month,\n",
    "    wiki as project, \n",
    "    database_group AS project_family,\n",
    "    'All' AS market,\n",
    "    count(*) as active_editors,\n",
    "    sum(cast(registration_month = month as int)) as new_active_editors,\n",
    "    count(*) - sum(cast(registration_month = month as int)) as returning_active_editors\n",
    "from (\n",
    "    select\n",
    "        wiki,\n",
    "        database_group,\n",
    "        cast(month as date) as month,\n",
    "        user_name,\n",
    "        sum(content_edits) as content_edits,\n",
    "        max(bot_by_group) as bot_by_group,\n",
    "        cast(trunc(min(user_registration), \"MONTH\") as date) as registration_month\n",
    "    from neilpquinn.editor_month\n",
    "    inner join canonical_data.wikis on wiki = database_code\n",
    "    where\n",
    "        month = CONCAT('{month}','-01') and\n",
    "        user_id != 0\n",
    "        and\n",
    "        database_group in (\n",
    "        \"commons\", \"mediawiki\", \"meta\",  \n",
    "        \"species\",\"wikibooks\", \"wikidata\", \"wikinews\", \"wikipedia\", \"wikiquote\",\n",
    "        \"wikisource\", \"wikivoyage\", \"wiktionary\"\n",
    "    )\n",
    "    group by wiki,database_group, month, user_name\n",
    ") global_edits\n",
    "where\n",
    "    content_edits >= 5 and\n",
    "    not bot_by_group and\n",
    "    user_name not regexp \"bot\\\\b\"\n",
    "group by month, wiki,database_group\"\"\".format(\n",
    "       month = METRICS_MONTH_TEXT\n",
    "    ))"
   ]
  },
  {
   "cell_type": "code",
   "execution_count": null,
   "metadata": {},
   "outputs": [],
   "source": [
    "os.system(\"hdfs dfs -chmod -R o+r /user/hive/warehouse/cchen.db/repo_active_editors\")"
   ]
  },
  {
   "cell_type": "code",
   "execution_count": null,
   "metadata": {},
   "outputs": [],
   "source": []
  }
 ],
 "metadata": {
  "kernelspec": {
   "display_name": "Python 3",
   "language": "python",
   "name": "python3"
  },
  "language_info": {
   "codemirror_mode": {
    "name": "ipython",
    "version": 3
   },
   "file_extension": ".py",
   "mimetype": "text/x-python",
   "name": "python",
   "nbconvert_exporter": "python",
   "pygments_lexer": "ipython3",
   "version": "3.7.6"
  }
 },
 "nbformat": 4,
 "nbformat_minor": 4
}
