{
 "cells": [
  {
   "cell_type": "markdown",
   "id": "ee0e95ec",
   "metadata": {},
   "source": [
    "## interactions"
   ]
  },
  {
   "cell_type": "markdown",
   "id": "7c6c8f40",
   "metadata": {},
   "source": [
    "Update cchen.repo_diversity_interactions table for Superset dashboard monthly"
   ]
  },
  {
   "cell_type": "code",
   "execution_count": 4,
   "id": "2c05763c",
   "metadata": {},
   "outputs": [],
   "source": [
    "import time\n",
    "import datetime\n",
    "\n",
    "import pandas as pd\n",
    "import requests\n",
    "from wmfdata import hive\n",
    "import os"
   ]
  },
  {
   "cell_type": "code",
   "execution_count": 5,
   "id": "da73c560",
   "metadata": {},
   "outputs": [],
   "source": [
    "last_month = datetime.date.today().replace(day=1) - datetime.timedelta(days=1)\n",
    "\n",
    "METRICS_MONTH_TEXT = last_month.strftime(\"%Y-%m\")\n",
    "metrics_month = pd.Period(METRICS_MONTH_TEXT)"
   ]
  },
  {
   "cell_type": "code",
   "execution_count": 6,
   "id": "92518667",
   "metadata": {},
   "outputs": [
    {
     "data": {
      "text/plain": [
       "Period('2021-07', 'M')"
      ]
     },
     "execution_count": 6,
     "metadata": {},
     "output_type": "execute_result"
    }
   ],
   "source": [
    "metrics_month"
   ]
  },
  {
   "cell_type": "code",
   "execution_count": null,
   "id": "e082acc1",
   "metadata": {},
   "outputs": [],
   "source": [
    "## add interactions\n",
    "hive.run(\n",
    "\"\"\"\n",
    "insert into cchen.repo_diversity_interactions \n",
    "\n",
    "SELECT  month, project, project_family, agent_type, market, access_method, sum(interactions) as interactions \n",
    "FROM\n",
    "(\n",
    "    SELECT \n",
    "            CONCAT(year,'-',LPAD(month,2,'0'),'-01 00:00:00.0') AS month,\n",
    "            'pageviews' AS type,\n",
    "            project, \n",
    "            canonical.database_group AS project_family,\n",
    "            agent_type,\n",
    "            countries.economic_region AS market,\n",
    "            access_method, \n",
    "            SUM(view_count) AS interactions\n",
    "        FROM wmf.pageview_hourly pv\n",
    "            LEFT JOIN canonical_data.countries AS countries ON pv.country_code = countries.iso_code\n",
    "            LEFT JOIN canonical_data.wikis AS canonical ON CONCAT(pv.project,'.org') = canonical.domain_name\n",
    "       WHERE (year = {year} and month = {month} )\n",
    "            AND agent_type != 'spider'\n",
    "            AND NOT (country_code IN ('PK', 'IR', 'AF') \n",
    "            AND user_agent_map['browser_family'] = 'IE') \n",
    "        GROUP BY CONCAT(year,'-',LPAD(month,2,'0'),'-01 00:00:00.0'),\n",
    "            canonical.database_group, \n",
    "            project,\n",
    "            agent_type,\n",
    "            access_method,\n",
    "            countries.economic_region\n",
    "    union all\n",
    "    SELECT  \n",
    "            CONCAT(year,'-',LPAD(month,2,'0'),'-01 00:00:00.0') AS month, \n",
    "            'previews' AS type, \n",
    "             project,  \n",
    "             canonical.database_group AS project_family, \n",
    "             agent_type, \n",
    "             countries.economic_region AS market, \n",
    "             access_method,  \n",
    "             SUM(view_count) AS interactions \n",
    "        FROM wmf.virtualpageview_hourly pv  \n",
    "            LEFT JOIN canonical_data.countries AS countries ON pv.country_code = countries.iso_code \n",
    "            LEFT JOIN canonical_data.wikis AS canonical ON CONCAT(pv.project,'.org') = canonical.domain_name \n",
    "        WHERE (year = {year} and month = {month} )\n",
    "            AND agent_type != 'spider' \n",
    "        GROUP BY CONCAT(year,'-',LPAD(month,2,'0'),'-01 00:00:00.0'),\n",
    "                canonical.database_group, \n",
    "                project,\n",
    "                agent_type,\n",
    "                access_method,\n",
    "                countries.economic_region\n",
    ") x\n",
    "group by  month, project, project_family, agent_type, market, access_method\n",
    "\n",
    "\"\"\".format(\n",
    "        year = metrics_month.year,\n",
    "        month = metrics_month.month\n",
    "    ))"
   ]
  },
  {
   "cell_type": "code",
   "execution_count": null,
   "id": "b889b031",
   "metadata": {},
   "outputs": [],
   "source": [
    "#update permission \n",
    "os.system(\"hdfs dfs -chmod -R o+r /user/hive/warehouse/cchen.db/repo_diversity_interactions\")"
   ]
  },
  {
   "cell_type": "code",
   "execution_count": null,
   "id": "c007afc9",
   "metadata": {},
   "outputs": [],
   "source": []
  }
 ],
 "metadata": {
  "kernelspec": {
   "display_name": "Python 3",
   "language": "python",
   "name": "python3"
  },
  "language_info": {
   "codemirror_mode": {
    "name": "ipython",
    "version": 3
   },
   "file_extension": ".py",
   "mimetype": "text/x-python",
   "name": "python",
   "nbconvert_exporter": "python",
   "pygments_lexer": "ipython3",
   "version": "3.7.6"
  }
 },
 "nbformat": 4,
 "nbformat_minor": 5
}
